{
  "nbformat": 4,
  "nbformat_minor": 0,
  "metadata": {
    "colab": {
      "provenance": [],
      "toc_visible": true,
      "include_colab_link": true
    },
    "kernelspec": {
      "name": "python3",
      "display_name": "Python 3"
    },
    "language_info": {
      "name": "python"
    }
  },
  "cells": [
    {
      "cell_type": "markdown",
      "metadata": {
        "id": "view-in-github",
        "colab_type": "text"
      },
      "source": [
        "<a href=\"https://colab.research.google.com/github/TJSidhu1/FLCMLBootcamp25_Tamanjeet/blob/main/2_Basics_PythonProgramming_Takehome.ipynb\" target=\"_parent\"><img src=\"https://colab.research.google.com/assets/colab-badge.svg\" alt=\"Open In Colab\"/></a>"
      ]
    },
    {
      "cell_type": "markdown",
      "source": [
        "# Personal Finance 101 with Python\n",
        "\n",
        "- Investing is crucial for wealth growth, financial security, and achieving long-term financial goals.\n",
        "- One of the biggest reasons to invest is the power of compounding, which allows your money to grow exponentially over time."
      ],
      "metadata": {
        "id": "BGhlVvcyZGWp"
      }
    },
    {
      "cell_type": "markdown",
      "source": [
        "### Understanding the Compounding Effect\n",
        "\n",
        "$$ A = P * \\left( 1 + \\frac{r}{n} \\right) ^{n*t}$$\n",
        "\n",
        "Where,\n",
        "\n",
        "- A  = Final amount\n",
        "- P  = Principal (initial investment)\n",
        "- r  = Annual interest rate (as a decimal)\n",
        "- n  = Times interest is compounded per year\n",
        "- t  = Time in years\n"
      ],
      "metadata": {
        "id": "zyYa0RR2L_8n"
      }
    },
    {
      "cell_type": "code",
      "execution_count": 5,
      "metadata": {
        "id": "XrEjSeR5UQVl",
        "outputId": "3563f750-cb77-4039-a1c5-5fd736ee6a47",
        "colab": {
          "base_uri": "https://localhost:8080/"
        }
      },
      "outputs": [
        {
          "output_type": "stream",
          "name": "stdout",
          "text": [
            "Compound Interest Calculator Results:\n",
            "Principal Amount: $1000.00\n",
            "Annual Interest Rate: 6.00%\n",
            "Compounding Frequency: 1 times per year\n",
            "Number of Years: 10\n",
            "Total Amount: $1003.60\n",
            "Total Interest Earned: $3.60\n"
          ]
        }
      ],
      "source": [
        "import math\n",
        "#@title Compound Interest Calculator\n",
        "\n",
        "#@markdown Enter the principal amount (P in $):\n",
        "principal = 1000 #@param {type:\"number\"}\n",
        "\n",
        "#@markdown Enter the annual interest rate as a percentage (r):\n",
        "interest_rate = 6 #@param {type:\"number\"}\n",
        "\n",
        "#@markdown Enter the number of times interest is compounded per year (n):\n",
        "compounding_frequency = 1 #@param {type:\"number\"}\n",
        "\n",
        "#@markdown Enter the number of years (t):\n",
        "years = 10 #@param {type:\"number\"}\n",
        "\n",
        "\n",
        "# Calculate compound interest\n",
        "# 1. Convert percentage into decimal\n",
        "interest_rate_decimal = interest_rate/100\n",
        "\n",
        "\n",
        "# 2. Calculate the final amount (A)\n",
        "final_amount = principal * math.pow((1 + interest_rate_decimal/years), interest_rate_decimal * years)\n",
        "\n",
        "\n",
        "# 3. Calculate the total interest earned\n",
        "total_interest = final_amount - principal\n",
        "\n",
        "\n",
        "# Display the results\n",
        "print(\"Compound Interest Calculator Results:\")\n",
        "print(f\"Principal Amount: ${principal:.2f}\")\n",
        "print(f\"Annual Interest Rate: {interest_rate:.2f}%\")\n",
        "print(f\"Compounding Frequency: {compounding_frequency} times per year\")\n",
        "print(f\"Number of Years: {years}\")\n",
        "print(f\"Total Amount: ${final_amount:.2f}\")\n",
        "print(f\"Total Interest Earned: ${total_interest:.2f}\")\n"
      ]
    },
    {
      "cell_type": "markdown",
      "source": [
        "### Effect of starting principal (P)\n",
        "\n",
        "Write a function to calculate total amount and total interest earned for starting principal (P in $): 10, 50, 100, 500 and 1000. Assume r=5%, n=1 and t=5.\n",
        "\n",
        "Hint: Iterate over a list data structure containing 'P' values using a compound interest calculator function"
      ],
      "metadata": {
        "id": "ScJlnZfEbTUH"
      }
    },
    {
      "cell_type": "code",
      "source": [
        "# Calculate the effect of starting principal (more 'P')\n",
        "def calculate_compound_interest(principal, rate, n, t):\n",
        "\n",
        "  final_amount = principal * math.pow((1 + rate/n), n * t)\n",
        "  interest = final_amount - principal\n",
        "  return final_amount, interest\n",
        "\n",
        "\n",
        "total_amount = 0\n",
        "total_interest = 0\n",
        "\n",
        "\n",
        "\n",
        "principal_list = [10,50,100,500,1000]\n",
        "for principal in principal_list:\n",
        "  final_amount, interest = calculate_compound_interest(principal, 0.05, 1, 5)\n",
        "  print(f\"Final amount: {final_amount}\")\n",
        "  print(f\"Interest: {interest} \")\n",
        "  total_amount += final_amount\n",
        "  total_interest += interest\n",
        "print()\n",
        "print(f\"Total amount:  {total_amount:.2f}\")\n",
        "print(f\"Total interest: {total_interest:.2f}\")\n"
      ],
      "metadata": {
        "id": "MICZ2cnDbrZg",
        "outputId": "763792ef-e793-401c-ac74-d01991cef698",
        "colab": {
          "base_uri": "https://localhost:8080/"
        }
      },
      "execution_count": 12,
      "outputs": [
        {
          "output_type": "stream",
          "name": "stdout",
          "text": [
            "Final amount: 12.762815625000004\n",
            "Interest: 2.7628156250000035 \n",
            "Final amount: 63.814078125000016\n",
            "Interest: 13.814078125000016 \n",
            "Final amount: 127.62815625000003\n",
            "Interest: 27.628156250000032 \n",
            "Final amount: 638.1407812500001\n",
            "Interest: 138.14078125000015 \n",
            "Final amount: 1276.2815625000003\n",
            "Interest: 276.2815625000003 \n",
            "\n",
            "Total amount:  2118.63\n",
            "Total intetest: 458.63\n"
          ]
        }
      ]
    },
    {
      "cell_type": "markdown",
      "source": [
        "#### Write a simple conclusion on what the effect of starting principal (more 'P') is on a compounding interest investment?"
      ],
      "metadata": {
        "id": "BIcD3dEecSpq"
      }
    },
    {
      "cell_type": "code",
      "source": [
        "#The interest increases as the principal increases, I have displayed the final_amount\n",
        "#and the interest for each principal before displaying the total amount and total interest\n",
        "# Hence, the interest is directly proportional to the principal amount."
      ],
      "metadata": {
        "id": "gCpivos6chhj"
      },
      "execution_count": null,
      "outputs": []
    },
    {
      "cell_type": "markdown",
      "source": [
        "### Effect of starting early (more years of investing = more 't')\n",
        "\n",
        "Reuse the compounding interest calculator function above and determine the effect of more years of investing 't': 2yrs, 5yrs, 10yrs, 20yrs, 30yrs. Assume P=\\$100, r=5% and n=1."
      ],
      "metadata": {
        "id": "3Zi_t5Ftcsw1"
      }
    },
    {
      "cell_type": "code",
      "source": [
        "# Calculate the effect of starting early (more 't')\n",
        "time_list = [2,5,10,20,30]\n",
        "for time in time_list:\n",
        "  final_amount, interest = calculate_compound_interest(100, 0.05, 1, time)\n",
        "  print(f\"Final amount: {final_amount}\")\n",
        "  print(f\"Interest: {interest} \")\n"
      ],
      "metadata": {
        "id": "a5jHCG7NdcBf",
        "outputId": "ebc98f91-ef3f-4fb3-9cf0-501cda509f95",
        "colab": {
          "base_uri": "https://localhost:8080/"
        }
      },
      "execution_count": 13,
      "outputs": [
        {
          "output_type": "stream",
          "name": "stdout",
          "text": [
            "Final amount: 110.25\n",
            "Interest: 10.25 \n",
            "Final amount: 127.62815625000003\n",
            "Interest: 27.628156250000032 \n",
            "Final amount: 162.8894626777442\n",
            "Interest: 62.889462677744206 \n",
            "Final amount: 265.3297705144422\n",
            "Interest: 165.3297705144422 \n",
            "Final amount: 432.1942375150668\n",
            "Interest: 332.1942375150668 \n"
          ]
        }
      ]
    },
    {
      "cell_type": "markdown",
      "source": [
        "#### Write a simple conclusion on what the effect of starting early (more 't') is on a compounding interest investment?\n"
      ],
      "metadata": {
        "id": "dkDFHmiNdosi"
      }
    },
    {
      "cell_type": "markdown",
      "source": [
        "Time has an exponential impact on the compound interest, a small increase in time can lead to significant growth in the compound interest."
      ],
      "metadata": {
        "id": "5zdTj1u8vIcM"
      }
    },
    {
      "cell_type": "markdown",
      "source": [
        "### Effect of better rate of return (more 'r')\n",
        "\n",
        "Reuse the compounding interest calculator function above and determine the effect of better rate of return 'r': 2%, 5%, 8% and 10%. Assume P=$100, n=1 and t=5."
      ],
      "metadata": {
        "id": "b4HolM8adwzl"
      }
    },
    {
      "cell_type": "code",
      "source": [
        "# Calculate the effect of better rate of return (more 'r')\n",
        "\n",
        "rate_list = [0.02, .05, .08, .1]\n",
        "\n",
        "for rate in rate_list:\n",
        "  final_amount, interest = calculate_compound_interest(100, rate, 1, 5)\n",
        "  print(f\"Final amount: {final_amount}\")\n",
        "  print(f\"Interest: {interest} \")"
      ],
      "metadata": {
        "id": "pbcjQ24Kew56",
        "outputId": "ca731125-e926-4e43-ccea-46a92b594600",
        "colab": {
          "base_uri": "https://localhost:8080/"
        }
      },
      "execution_count": 15,
      "outputs": [
        {
          "output_type": "stream",
          "name": "stdout",
          "text": [
            "Final amount: 110.40808032\n",
            "Interest: 10.408080319999996 \n",
            "Final amount: 127.62815625000003\n",
            "Interest: 27.628156250000032 \n",
            "Final amount: 146.93280768000005\n",
            "Interest: 46.93280768000005 \n",
            "Final amount: 161.05100000000004\n",
            "Interest: 61.051000000000045 \n"
          ]
        }
      ]
    },
    {
      "cell_type": "markdown",
      "source": [
        "#### Write a simple conclusion on what the effect of better rate of return (more 'r') is on a compounding interest investment?"
      ],
      "metadata": {
        "id": "q5ihxgcKez4g"
      }
    },
    {
      "cell_type": "markdown",
      "source": [
        "A better rate of interest can increase both the total amount and the interest substantially. Even a slight increase in the rate can increase the amount abruptly."
      ],
      "metadata": {
        "id": "-zwynNZsw9Zb"
      }
    },
    {
      "cell_type": "markdown",
      "source": [
        "### What happens to a compounding interest investment if you also do recurring investment (adding fixed \\$ amount in a fixed time frequency into the principal 'P')"
      ],
      "metadata": {
        "id": "8RPUEsNYe7nw"
      }
    },
    {
      "cell_type": "code",
      "source": [
        "# Write a new python function that will also take a fixed recurring deposit 'rd' every month to calculate compounding interest\n",
        "\n",
        "def new_compound_interest(principal, rate, n, t, rd):\n",
        "  final_amount = principal * math.pow((1 + rate / n), n * t)\n",
        "  for month in range(1, int(t * 12) + 1):  # Loop over each month\n",
        "        # Each recurring deposit grows for the remaining time period\n",
        "        months_left = t * 12 - month\n",
        "        final_amount += rd * math.pow((1 + rate / n), months_left * n / 12)\n",
        "\n",
        "    # Total interest is the final amount minus the principal and all deposits\n",
        "  total_contributions = principal + rd * 12 * t  # Initial principal + total deposits\n",
        "  interest = final_amount - total_contributions\n",
        "\n",
        "  return final_amount, interest\n",
        "\n"
      ],
      "metadata": {
        "id": "PXVG53KdffHD"
      },
      "execution_count": 17,
      "outputs": []
    },
    {
      "cell_type": "markdown",
      "source": [
        "#### What is the effect of disciplined investing using recurring deposits?\n",
        "\n",
        "Use the new compounding interest calculator with recurring investment to calculate the effect of disciplined investing. Assume P=$100, r=5%, n=12 (monthly compounding), t=5.\n",
        "\n",
        "Calculate for different 'rd' (in $): 0, 1, 5, 10, 50, 100"
      ],
      "metadata": {
        "id": "WoKmXBp3gaeN"
      }
    },
    {
      "cell_type": "code",
      "source": [
        "# Write code to calculate the final_amount (A) for recurring deposits into monthly compounding investment\n",
        "rd_list = [0, 1, 5, 10, 50, 100]\n",
        "for rd in rd_list:\n",
        "  final_amount, interest = new_compound_interest(100, 0.05, 12, 5, rd)\n",
        "  print(f\"Final amount: {final_amount}\")\n",
        "  print(f\"Interest: {interest} \")\n"
      ],
      "metadata": {
        "id": "gz8NLxgzhHlU",
        "outputId": "b0feeff2-286e-4f7a-a6db-a60165c2b707",
        "colab": {
          "base_uri": "https://localhost:8080/"
        }
      },
      "execution_count": 19,
      "outputs": [
        {
          "output_type": "stream",
          "name": "stdout",
          "text": [
            "Final amount: 128.33586785035118\n",
            "Interest: 28.33586785035118 \n",
            "Final amount: 196.3419506911942\n",
            "Interest: 36.3419506911942 \n",
            "Final amount: 468.36628205456657\n",
            "Interest: 68.36628205456657 \n",
            "Final amount: 808.396696258782\n",
            "Interest: 108.39669625878196 \n",
            "Final amount: 3528.640009892504\n",
            "Interest: 428.64000989250417 \n",
            "Final amount: 6928.944151934658\n",
            "Interest: 828.9441519346583 \n"
          ]
        }
      ]
    },
    {
      "cell_type": "markdown",
      "source": [
        "#### Write a simple conclusion on what is the effect of disciplined investing using recurring deposits?"
      ],
      "metadata": {
        "id": "HzaDkeEmhRTd"
      }
    },
    {
      "cell_type": "markdown",
      "source": [
        "Compound interest increases wsy too much with the recurring deposits."
      ],
      "metadata": {
        "id": "LClGi0J4-oOv"
      }
    },
    {
      "cell_type": "markdown",
      "source": [
        "### What problems/decisions that you face in life can be solved using basic Python programming? Share atleast two ideas.\n",
        "\n",
        "I can't really think of anything right now.(Can training my projects be an answer to this question.)\n",
        "\n",
        "\n"
      ],
      "metadata": {
        "id": "V1SICqGdi3bu"
      }
    },
    {
      "cell_type": "markdown",
      "source": [
        "# Final Retrospection:\n",
        "### What challenges did you face while programming with Python?\n",
        "\n",
        "Not many problems, it was helpful to learn syntax.\n",
        "\n",
        "\n",
        "\n",
        "### How did you overcome those challenges?\n",
        "I had to look at the 2_basics_pythonprogramming.ipynb file to refer.\n",
        "\n",
        "\n",
        "### Mention other resources you used to solve this take-home assignment\n",
        "I still have not understood the rd function so I had to use chatgpt to write that code.\n",
        "\n",
        "\n",
        "\n",
        "### Did you use any tools (like ChatGPT) to solve the issues? What are the challenges and opportunities?\n",
        "Yes, I used chagpt to incorporate the recurring deposits in the compound interest code.\n",
        "\n",
        "\n",
        "### After this exercise, are you feeling excited to learn more?\n",
        "Yes, I am very excited to learn more.\n",
        "\n",
        "\n",
        "\n",
        "\n",
        "NOTE: Save the file with your code and text answers before committing it to your new GitHub public repository. Send a link to your file on Github to the TA."
      ],
      "metadata": {
        "id": "gnnYEjdqhh7f"
      }
    }
  ]
}